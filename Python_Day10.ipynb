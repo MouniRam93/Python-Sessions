{
 "cells": [
  {
   "cell_type": "code",
   "execution_count": 1,
   "metadata": {},
   "outputs": [],
   "source": [
    "#Modifying values of Dictionary"
   ]
  },
  {
   "cell_type": "code",
   "execution_count": 10,
   "metadata": {},
   "outputs": [
    {
     "name": "stdout",
     "output_type": "stream",
     "text": [
      "the planet next to Earth is mars.\n",
      "the planet prior to Earth is venus.\n"
     ]
    }
   ],
   "source": [
    "Solar_system = {'planet':'mars'}\n",
    "print (f\"the planet next to Earth is {Solar_system['planet']}.\")\n",
    "Solar_system['planet']='venus'\n",
    "print (f\"the planet prior to Earth is {Solar_system['planet']}.\")"
   ]
  },
  {
   "cell_type": "code",
   "execution_count": 11,
   "metadata": {},
   "outputs": [
    {
     "name": "stdout",
     "output_type": "stream",
     "text": [
      "the planet next to Earth is Mars.\n",
      "the planet prior to Earth is Venus.\n"
     ]
    }
   ],
   "source": [
    "Solar_system = {'planet':'mars'}\n",
    "print (f\"the planet next to Earth is {Solar_system['planet'].title()}.\")\n",
    "Solar_system['planet'] = 'venus'\n",
    "print (f\"the planet prior to Earth is {Solar_system['planet'].title()}.\")"
   ]
  },
  {
   "cell_type": "code",
   "execution_count": 14,
   "metadata": {},
   "outputs": [
    {
     "name": "stdout",
     "output_type": "stream",
     "text": [
      "the planet next to Earth is MARS.\n",
      "the planet prior to Earth is venus.\n"
     ]
    }
   ],
   "source": [
    "Solar_system = {'planet':'mars'}\n",
    "print(f\"the planet next to Earth is {Solar_system['planet'].upper()}.\")\n",
    "Solar_system['planet'] = 'venus'\n",
    "print(f\"the planet prior to Earth is {Solar_system['planet'].lower()}.\")"
   ]
  },
  {
   "cell_type": "code",
   "execution_count": 13,
   "metadata": {},
   "outputs": [],
   "source": [
    "#Deleting a value in Dictionary"
   ]
  },
  {
   "cell_type": "code",
   "execution_count": 15,
   "metadata": {},
   "outputs": [
    {
     "name": "stdout",
     "output_type": "stream",
     "text": [
      "{'planet': 'mercury', 'chemical': 'helium'}\n"
     ]
    }
   ],
   "source": [
    "universe = {'planet':'mercury','chemical':'helium'}\n",
    "print (universe)"
   ]
  },
  {
   "cell_type": "code",
   "execution_count": 16,
   "metadata": {},
   "outputs": [
    {
     "name": "stdout",
     "output_type": "stream",
     "text": [
      "{'planet': 'mercury'}\n"
     ]
    }
   ],
   "source": [
    "del universe['chemical']\n",
    "print(universe)"
   ]
  },
  {
   "cell_type": "code",
   "execution_count": 17,
   "metadata": {},
   "outputs": [],
   "source": [
    "#Declaring similar items in a list of a dictionary"
   ]
  },
  {
   "cell_type": "code",
   "execution_count": 20,
   "metadata": {},
   "outputs": [
    {
     "name": "stdout",
     "output_type": "stream",
     "text": [
      "Rambabu's favourite language is Biology.\n"
     ]
    }
   ],
   "source": [
    "fav_lang = {'rambabu':'biology','padmavathi':'telugu','mounika':'physics','suhitha':'hindi','rishika':'ART','toni':'english','dimple':'chemisrty'\n",
    "           }\n",
    "lang = fav_lang['rambabu'].title()\n",
    "print(f\"Rambabu's favourite language is {lang}.\")"
   ]
  },
  {
   "cell_type": "code",
   "execution_count": 21,
   "metadata": {},
   "outputs": [
    {
     "name": "stdout",
     "output_type": "stream",
     "text": [
      "Padmavathi's favourite language is Telugu.\n"
     ]
    }
   ],
   "source": [
    "lang = fav_lang['padmavathi'].title()\n",
    "print(f\"Padmavathi's favourite language is {lang}.\")"
   ]
  },
  {
   "cell_type": "code",
   "execution_count": 22,
   "metadata": {},
   "outputs": [
    {
     "name": "stdout",
     "output_type": "stream",
     "text": [
      "Mounika's favourite language is Physics.\n"
     ]
    }
   ],
   "source": [
    "lang = fav_lang['mounika'].title()\n",
    "print(f\"Mounika's favourite language is {lang}.\")"
   ]
  },
  {
   "cell_type": "code",
   "execution_count": 23,
   "metadata": {},
   "outputs": [
    {
     "name": "stdout",
     "output_type": "stream",
     "text": [
      "Suhitha's favourite language is HINDI.\n"
     ]
    }
   ],
   "source": [
    "lang = fav_lang['suhitha'].upper()\n",
    "print(f\"Suhitha's favourite language is {lang}.\")"
   ]
  },
  {
   "cell_type": "code",
   "execution_count": 25,
   "metadata": {},
   "outputs": [
    {
     "name": "stdout",
     "output_type": "stream",
     "text": [
      "Rishika's favourite language is art.\n"
     ]
    }
   ],
   "source": [
    "lang = fav_lang['rishika'].lower()\n",
    "print(f\"Rishika's favourite language is {lang}.\")"
   ]
  },
  {
   "cell_type": "code",
   "execution_count": 26,
   "metadata": {},
   "outputs": [],
   "source": [
    "#what if key word is not defined in the dictionary"
   ]
  },
  {
   "cell_type": "code",
   "execution_count": 27,
   "metadata": {},
   "outputs": [
    {
     "ename": "KeyError",
     "evalue": "'aishu'",
     "output_type": "error",
     "traceback": [
      "\u001b[1;31m---------------------------------------------------------------------------\u001b[0m",
      "\u001b[1;31mKeyError\u001b[0m                                  Traceback (most recent call last)",
      "\u001b[1;32m<ipython-input-27-8b00a8ded922>\u001b[0m in \u001b[0;36m<module>\u001b[1;34m\u001b[0m\n\u001b[1;32m----> 1\u001b[1;33m \u001b[0mlang\u001b[0m \u001b[1;33m=\u001b[0m \u001b[0mfav_lang\u001b[0m\u001b[1;33m[\u001b[0m\u001b[1;34m'aishu'\u001b[0m\u001b[1;33m]\u001b[0m\u001b[1;33m.\u001b[0m\u001b[0mupper\u001b[0m\u001b[1;33m(\u001b[0m\u001b[1;33m)\u001b[0m\u001b[1;33m\u001b[0m\u001b[1;33m\u001b[0m\u001b[0m\n\u001b[0m\u001b[0;32m      2\u001b[0m \u001b[0mprint\u001b[0m\u001b[1;33m(\u001b[0m\u001b[1;34mf\"aishu's favourite language is {lang}.\"\u001b[0m\u001b[1;33m)\u001b[0m\u001b[1;33m\u001b[0m\u001b[1;33m\u001b[0m\u001b[0m\n",
      "\u001b[1;31mKeyError\u001b[0m: 'aishu'"
     ]
    }
   ],
   "source": [
    "lang = fav_lang['aishu'].upper()\n",
    "print(f\"aishu's favourite language is {lang}.\")"
   ]
  },
  {
   "cell_type": "code",
   "execution_count": 28,
   "metadata": {},
   "outputs": [],
   "source": [
    "#To avoid above key error cases we uset get() function"
   ]
  },
  {
   "cell_type": "code",
   "execution_count": 29,
   "metadata": {},
   "outputs": [
    {
     "ename": "KeyError",
     "evalue": "'chapter2'",
     "output_type": "error",
     "traceback": [
      "\u001b[1;31m---------------------------------------------------------------------------\u001b[0m",
      "\u001b[1;31mKeyError\u001b[0m                                  Traceback (most recent call last)",
      "\u001b[1;32m<ipython-input-29-5c4fa159d3bd>\u001b[0m in \u001b[0;36m<module>\u001b[1;34m\u001b[0m\n\u001b[0;32m      1\u001b[0m \u001b[0mphysics\u001b[0m \u001b[1;33m=\u001b[0m \u001b[1;33m{\u001b[0m\u001b[1;34m'chapter1'\u001b[0m\u001b[1;33m:\u001b[0m\u001b[1;34m'Quantums'\u001b[0m\u001b[1;33m,\u001b[0m\u001b[1;34m'chapter'\u001b[0m\u001b[1;33m:\u001b[0m\u001b[1;34m'relativity'\u001b[0m\u001b[1;33m}\u001b[0m\u001b[1;33m\u001b[0m\u001b[1;33m\u001b[0m\u001b[0m\n\u001b[1;32m----> 2\u001b[1;33m \u001b[0mprint\u001b[0m \u001b[1;33m(\u001b[0m\u001b[0mphysics\u001b[0m\u001b[1;33m[\u001b[0m\u001b[1;34m'chapter2'\u001b[0m\u001b[1;33m]\u001b[0m\u001b[1;33m)\u001b[0m\u001b[1;33m\u001b[0m\u001b[1;33m\u001b[0m\u001b[0m\n\u001b[0m",
      "\u001b[1;31mKeyError\u001b[0m: 'chapter2'"
     ]
    }
   ],
   "source": [
    "physics = {'chapter1':'Quantums','chapter':'relativity'}\n",
    "print (physics['chapter2'])"
   ]
  },
  {
   "cell_type": "code",
   "execution_count": 30,
   "metadata": {},
   "outputs": [
    {
     "ename": "KeyError",
     "evalue": "'chapter2'",
     "output_type": "error",
     "traceback": [
      "\u001b[1;31m---------------------------------------------------------------------------\u001b[0m",
      "\u001b[1;31mKeyError\u001b[0m                                  Traceback (most recent call last)",
      "\u001b[1;32m<ipython-input-30-64b8515c1633>\u001b[0m in \u001b[0;36m<module>\u001b[1;34m\u001b[0m\n\u001b[0;32m      1\u001b[0m \u001b[0mphysics\u001b[0m \u001b[1;33m=\u001b[0m \u001b[1;33m{\u001b[0m\u001b[1;34m'chapter1'\u001b[0m\u001b[1;33m:\u001b[0m\u001b[1;34m'Quantums'\u001b[0m\u001b[1;33m,\u001b[0m\u001b[1;34m'chapter'\u001b[0m\u001b[1;33m:\u001b[0m\u001b[1;34m'relativity'\u001b[0m\u001b[1;33m}\u001b[0m\u001b[1;33m\u001b[0m\u001b[1;33m\u001b[0m\u001b[0m\n\u001b[1;32m----> 2\u001b[1;33m \u001b[0mprint\u001b[0m \u001b[1;33m(\u001b[0m\u001b[0mphysics\u001b[0m\u001b[1;33m[\u001b[0m\u001b[1;34m'chapter2'\u001b[0m\u001b[1;33m]\u001b[0m\u001b[1;33m)\u001b[0m\u001b[1;33m\u001b[0m\u001b[1;33m\u001b[0m\u001b[0m\n\u001b[0m\u001b[0;32m      3\u001b[0m \u001b[0msolution\u001b[0m \u001b[1;33m=\u001b[0m \u001b[0mphysics\u001b[0m\u001b[1;33m.\u001b[0m\u001b[0mget\u001b[0m\u001b[1;33m(\u001b[0m\u001b[1;34m'chapter2'\u001b[0m\u001b[1;33m,\u001b[0m\u001b[1;34m'chapter2 is not declared in the given dictionary try with another key'\u001b[0m\u001b[1;33m)\u001b[0m\u001b[1;33m\u001b[0m\u001b[1;33m\u001b[0m\u001b[0m\n\u001b[0;32m      4\u001b[0m \u001b[0mprint\u001b[0m\u001b[1;33m(\u001b[0m\u001b[0msolution\u001b[0m\u001b[1;33m)\u001b[0m\u001b[1;33m\u001b[0m\u001b[1;33m\u001b[0m\u001b[0m\n",
      "\u001b[1;31mKeyError\u001b[0m: 'chapter2'"
     ]
    }
   ],
   "source": [
    "physics = {'chapter1':'Quantums','chapter':'relativity'}\n",
    "print (physics['chapter2'])\n",
    "solution = physics.get('chapter2','chapter2 is not declared in the given dictionary try with another key')\n",
    "print(solution)"
   ]
  },
  {
   "cell_type": "code",
   "execution_count": null,
   "metadata": {},
   "outputs": [],
   "source": []
  }
 ],
 "metadata": {
  "kernelspec": {
   "display_name": "Python 3",
   "language": "python",
   "name": "python3"
  },
  "language_info": {
   "codemirror_mode": {
    "name": "ipython",
    "version": 3
   },
   "file_extension": ".py",
   "mimetype": "text/x-python",
   "name": "python",
   "nbconvert_exporter": "python",
   "pygments_lexer": "ipython3",
   "version": "3.7.3"
  }
 },
 "nbformat": 4,
 "nbformat_minor": 2
}
