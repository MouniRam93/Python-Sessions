{
 "cells": [
  {
   "cell_type": "code",
   "execution_count": 1,
   "metadata": {},
   "outputs": [],
   "source": [
    "#Looping thru dictionaries"
   ]
  },
  {
   "cell_type": "code",
   "execution_count": 4,
   "metadata": {},
   "outputs": [
    {
     "name": "stdout",
     "output_type": "stream",
     "text": [
      "\n",
      "Key : planet1\n",
      "Value : Mercury\n",
      "\n",
      "Key : planet2\n",
      "Value : Venus\n",
      "\n",
      "Key : planet3\n",
      "Value : Earth\n",
      "\n",
      "Key : planet4\n",
      "Value : Mars\n"
     ]
    }
   ],
   "source": [
    "Solar_Family = {'planet1':'Mercury','planet2':'Venus','planet3':'Earth','planet4':'Mars',\n",
    "               }\n",
    "for planet,itsname in Solar_Family.items():\n",
    "    print(f'\\nKey : {planet}')\n",
    "    print(f'Value : {itsname}')"
   ]
  },
  {
   "cell_type": "code",
   "execution_count": 6,
   "metadata": {},
   "outputs": [
    {
     "name": "stdout",
     "output_type": "stream",
     "text": [
      "\n",
      "Key : planet1\n",
      "\n",
      "Key : planet2\n",
      "\n",
      "Key : planet3\n",
      "\n",
      "Key : planet4\n"
     ]
    }
   ],
   "source": [
    "for planet in Solar_Family.keys():\n",
    "    print(f'\\nKey : {planet}')"
   ]
  },
  {
   "cell_type": "code",
   "execution_count": 7,
   "metadata": {},
   "outputs": [
    {
     "name": "stdout",
     "output_type": "stream",
     "text": [
      "\n",
      "Value : Mercury\n",
      "\n",
      "Value : Venus\n",
      "\n",
      "Value : Earth\n",
      "\n",
      "Value : Mars\n"
     ]
    }
   ],
   "source": [
    "for planet in Solar_Family.values():\n",
    "    print(f'\\nValue : {planet}')"
   ]
  },
  {
   "cell_type": "code",
   "execution_count": 8,
   "metadata": {},
   "outputs": [
    {
     "name": "stdout",
     "output_type": "stream",
     "text": [
      "\n",
      "Value : Mars\n",
      "\n",
      "Value : Mars\n",
      "\n",
      "Value : Mars\n",
      "\n",
      "Value : Mars\n"
     ]
    }
   ],
   "source": [
    " for planet in Solar_Family.values():\n",
    "    print(f'\\nValue : {itsname}')"
   ]
  },
  {
   "cell_type": "code",
   "execution_count": null,
   "metadata": {},
   "outputs": [],
   "source": []
  }
 ],
 "metadata": {
  "kernelspec": {
   "display_name": "Python 3",
   "language": "python",
   "name": "python3"
  },
  "language_info": {
   "codemirror_mode": {
    "name": "ipython",
    "version": 3
   },
   "file_extension": ".py",
   "mimetype": "text/x-python",
   "name": "python",
   "nbconvert_exporter": "python",
   "pygments_lexer": "ipython3",
   "version": "3.7.3"
  }
 },
 "nbformat": 4,
 "nbformat_minor": 2
}
