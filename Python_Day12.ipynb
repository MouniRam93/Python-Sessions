{
 "cells": [
  {
   "cell_type": "code",
   "execution_count": 1,
   "metadata": {},
   "outputs": [],
   "source": [
    "#User Input Declaration--Input()"
   ]
  },
  {
   "cell_type": "code",
   "execution_count": 2,
   "metadata": {},
   "outputs": [
    {
     "name": "stdout",
     "output_type": "stream",
     "text": [
      "Welcome to Universe, tell me what it is madeup ofIt is made up of Galaxies, Dust and Chemicals\n",
      "It is made up of Galaxies, Dust and Chemicals\n"
     ]
    }
   ],
   "source": [
    "greeting = input(\"Welcome to Universe, tell me what it is madeup of\")\n",
    "print(greeting)"
   ]
  },
  {
   "cell_type": "code",
   "execution_count": 4,
   "metadata": {},
   "outputs": [
    {
     "name": "stdout",
     "output_type": "stream",
     "text": [
      "how is star born It is born from Black Hole\n",
      "\n",
      " It is born from Black Hole\n"
     ]
    }
   ],
   "source": [
    "task1 = input(\"how is star born\")\n",
    "print(f\"\\n{task1}\")"
   ]
  },
  {
   "cell_type": "code",
   "execution_count": 9,
   "metadata": {},
   "outputs": [
    {
     "name": "stdout",
     "output_type": "stream",
     "text": [
      "how is star bornBig bang theory\n",
      "\n",
      "also from Big bang theory\n"
     ]
    }
   ],
   "source": [
    "task1 = input(\"how is star born\")\n",
    "print(f\"\\nalso from {task1}\")"
   ]
  },
  {
   "cell_type": "code",
   "execution_count": null,
   "metadata": {},
   "outputs": [],
   "source": []
  }
 ],
 "metadata": {
  "kernelspec": {
   "display_name": "Python 3",
   "language": "python",
   "name": "python3"
  },
  "language_info": {
   "codemirror_mode": {
    "name": "ipython",
    "version": 3
   },
   "file_extension": ".py",
   "mimetype": "text/x-python",
   "name": "python",
   "nbconvert_exporter": "python",
   "pygments_lexer": "ipython3",
   "version": "3.7.3"
  }
 },
 "nbformat": 4,
 "nbformat_minor": 2
}
