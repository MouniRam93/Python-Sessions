{
 "cells": [
  {
   "cell_type": "code",
   "execution_count": 1,
   "metadata": {},
   "outputs": [],
   "source": [
    "#Introduction to Dictionary datatype"
   ]
  },
  {
   "cell_type": "code",
   "execution_count": 12,
   "metadata": {},
   "outputs": [
    {
     "name": "stdout",
     "output_type": "stream",
     "text": [
      "white\n",
      "8\n"
     ]
    }
   ],
   "source": [
    "dict1 = {'color':'white','points':8}\n",
    "print(dict1['color'])\n",
    "print(dict1['points'])"
   ]
  },
  {
   "cell_type": "code",
   "execution_count": 13,
   "metadata": {},
   "outputs": [
    {
     "name": "stdout",
     "output_type": "stream",
     "text": [
      "White\n",
      "8\n"
     ]
    }
   ],
   "source": [
    "dict1 = {'color':'white','points':8}\n",
    "print(dict1['color'].title())\n",
    "print(dict1['points'])"
   ]
  },
  {
   "cell_type": "code",
   "execution_count": 14,
   "metadata": {},
   "outputs": [
    {
     "name": "stdout",
     "output_type": "stream",
     "text": [
      "WHITE\n",
      "8\n"
     ]
    }
   ],
   "source": [
    "dict1 = {'color':'white','points':8}\n",
    "print(dict1['color'].upper())\n",
    "print(dict1['points'])"
   ]
  },
  {
   "cell_type": "code",
   "execution_count": 16,
   "metadata": {},
   "outputs": [
    {
     "name": "stdout",
     "output_type": "stream",
     "text": [
      "MILKY WAY\n",
      "Sun\n"
     ]
    }
   ],
   "source": [
    "universe = {'galaxy':'milky way','Star':\"Sun\"}\n",
    "print(universe['galaxy'].upper())\n",
    "print(universe['Star'])"
   ]
  },
  {
   "cell_type": "code",
   "execution_count": null,
   "metadata": {},
   "outputs": [],
   "source": []
  }
 ],
 "metadata": {
  "kernelspec": {
   "display_name": "Python 3",
   "language": "python",
   "name": "python3"
  },
  "language_info": {
   "codemirror_mode": {
    "name": "ipython",
    "version": 3
   },
   "file_extension": ".py",
   "mimetype": "text/x-python",
   "name": "python",
   "nbconvert_exporter": "python",
   "pygments_lexer": "ipython3",
   "version": "3.7.3"
  }
 },
 "nbformat": 4,
 "nbformat_minor": 2
}
