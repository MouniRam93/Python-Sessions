{
 "cells": [
  {
   "cell_type": "code",
   "execution_count": 1,
   "metadata": {},
   "outputs": [
    {
     "name": "stdout",
     "output_type": "stream",
     "text": [
      "(200,)\n"
     ]
    }
   ],
   "source": [
    "dimensions = (200,300,400)\n",
    "print(dimensions[0:1])"
   ]
  },
  {
   "cell_type": "code",
   "execution_count": 2,
   "metadata": {},
   "outputs": [
    {
     "name": "stdout",
     "output_type": "stream",
     "text": [
      "(200, 300, 400)\n"
     ]
    }
   ],
   "source": [
    "dimensions = (200,300,400)\n",
    "print(dimensions[0:3])"
   ]
  },
  {
   "cell_type": "code",
   "execution_count": 3,
   "metadata": {},
   "outputs": [
    {
     "name": "stdout",
     "output_type": "stream",
     "text": [
      "400\n"
     ]
    }
   ],
   "source": [
    "dimensions = (200,300,400)\n",
    "print(dimensions[-1])"
   ]
  },
  {
   "cell_type": "code",
   "execution_count": 4,
   "metadata": {},
   "outputs": [
    {
     "name": "stdout",
     "output_type": "stream",
     "text": [
      "300\n"
     ]
    }
   ],
   "source": [
    "dimensions = (200,300,400)\n",
    "print(dimensions[-2])"
   ]
  },
  {
   "cell_type": "code",
   "execution_count": 6,
   "metadata": {},
   "outputs": [
    {
     "name": "stdout",
     "output_type": "stream",
     "text": [
      "Female Astronauts are\n",
      "Kalpana\n",
      "Sunitha\n",
      "Valentina\n",
      "Male Astronauts are\n",
      "Rakesh\n",
      "Neil\n",
      "Collins\n"
     ]
    }
   ],
   "source": [
    "Astronauts = ('Kalpana','Sunitha','Valentina')\n",
    "print('Female Astronauts are')\n",
    "for astronaut in Astronauts:\n",
    "    print(astronaut)\n",
    "    \n",
    "Astronauts = ('Rakesh','Neil','Collins')\n",
    "print(\"Male Astronauts are\")\n",
    "for astronaut in Astronauts:\n",
    "    print(astronaut)"
   ]
  },
  {
   "cell_type": "code",
   "execution_count": 7,
   "metadata": {},
   "outputs": [
    {
     "name": "stdout",
     "output_type": "stream",
     "text": [
      "Female Astronauts are\n",
      "Kalpana\n",
      "Sunitha\n",
      "Valentina\n",
      "\n",
      "Male Astronauts are\n",
      "Rakesh\n",
      "Neil\n",
      "Collins\n"
     ]
    }
   ],
   "source": [
    "Astronauts = ('Kalpana','Sunitha','Valentina')\n",
    "print('Female Astronauts are')\n",
    "for astronaut in Astronauts:\n",
    "    print(astronaut)\n",
    "    \n",
    "Astronauts = ('Rakesh','Neil','Collins')\n",
    "print(\"\\nMale Astronauts are\")\n",
    "for astronaut in Astronauts:\n",
    "    print(astronaut)"
   ]
  },
  {
   "cell_type": "code",
   "execution_count": 9,
   "metadata": {},
   "outputs": [
    {
     "name": "stdout",
     "output_type": "stream",
     "text": [
      "Mercury\n",
      "Venus\n",
      "EARTH\n",
      "Mars\n",
      "Jupiter\n"
     ]
    }
   ],
   "source": [
    "Planets = ('mercury','venus','earth','mars','jupiter')\n",
    "for planet in Planets:\n",
    "    if planet == 'earth':\n",
    "        print(planet.upper())\n",
    "    else:\n",
    "        print(planet.title())"
   ]
  },
  {
   "cell_type": "code",
   "execution_count": 10,
   "metadata": {},
   "outputs": [
    {
     "name": "stdout",
     "output_type": "stream",
     "text": [
      "MERCURY\n",
      "VENUS\n",
      "EARTH\n",
      "mars\n",
      "JUPITER\n"
     ]
    }
   ],
   "source": [
    "Planets = ('mercury','venus','earth','mars','jupiter')\n",
    "for planet in Planets:\n",
    "    if planet == 'mars':\n",
    "        print(planet.lower())\n",
    "    else:\n",
    "        print(planet.upper())"
   ]
  },
  {
   "cell_type": "code",
   "execution_count": 11,
   "metadata": {},
   "outputs": [
    {
     "name": "stdout",
     "output_type": "stream",
     "text": [
      "Mercury\n",
      "Venus\n",
      "EARTH\n",
      "Mars\n",
      "Jupiter\n"
     ]
    }
   ],
   "source": [
    "Planets = ('mercury','venus','earth','mars','jupiter')\n",
    "for planet in Planets:\n",
    "    if planet == 'earth':\n",
    "        print(planet.upper())\n",
    "    else:\n",
    "        print(planet.title())"
   ]
  },
  {
   "cell_type": "code",
   "execution_count": 12,
   "metadata": {},
   "outputs": [
    {
     "name": "stdout",
     "output_type": "stream",
     "text": [
      "MERCURY\n",
      "VENUS\n",
      "Earth\n",
      "MARS\n",
      "JUPITER\n"
     ]
    }
   ],
   "source": [
    "Planets = ('mercury','venus','earth','mars','jupiter')\n",
    "for planet in Planets:\n",
    "    if planet == 'earth':\n",
    "        print(planet.title())\n",
    "    else:\n",
    "        print(planet.upper())"
   ]
  },
  {
   "cell_type": "code",
   "execution_count": 13,
   "metadata": {},
   "outputs": [
    {
     "name": "stdout",
     "output_type": "stream",
     "text": [
      "MERCURY\n",
      "VENUS\n",
      "earth\n",
      "MARS\n",
      "JUPITER\n"
     ]
    }
   ],
   "source": [
    "Planets = ('mercury','venus','earth','mars','jupiter')\n",
    "for planet in Planets:\n",
    "    if planet == 'earth':\n",
    "        print(planet.lower())\n",
    "    else:\n",
    "        print(planet.upper())"
   ]
  },
  {
   "cell_type": "code",
   "execution_count": 14,
   "metadata": {},
   "outputs": [
    {
     "data": {
      "text/plain": [
       "False"
      ]
     },
     "execution_count": 14,
     "metadata": {},
     "output_type": "execute_result"
    }
   ],
   "source": [
    "planet = 'saturn'\n",
    "planet == 'Saturn'"
   ]
  },
  {
   "cell_type": "code",
   "execution_count": 15,
   "metadata": {},
   "outputs": [
    {
     "data": {
      "text/plain": [
       "False"
      ]
     },
     "execution_count": 15,
     "metadata": {},
     "output_type": "execute_result"
    }
   ],
   "source": [
    "planet = 'NEPTUNE'\n",
    "planet.upper() == 'Neptune'"
   ]
  },
  {
   "cell_type": "code",
   "execution_count": 16,
   "metadata": {},
   "outputs": [
    {
     "data": {
      "text/plain": [
       "True"
      ]
     },
     "execution_count": 16,
     "metadata": {},
     "output_type": "execute_result"
    }
   ],
   "source": [
    "planet = 'NEPTUNE'\n",
    "planet.title() == 'Neptune'"
   ]
  },
  {
   "cell_type": "code",
   "execution_count": 18,
   "metadata": {},
   "outputs": [
    {
     "name": "stdout",
     "output_type": "stream",
     "text": [
      "Cancel the ride\n"
     ]
    }
   ],
   "source": [
    "requested_ride = 'Uber Prime'\n",
    "if requested_ride != 'Uber Go':\n",
    "    print('Cancel the ride')"
   ]
  },
  {
   "cell_type": "code",
   "execution_count": null,
   "metadata": {},
   "outputs": [],
   "source": []
  }
 ],
 "metadata": {
  "kernelspec": {
   "display_name": "Python 3",
   "language": "python",
   "name": "python3"
  },
  "language_info": {
   "codemirror_mode": {
    "name": "ipython",
    "version": 3
   },
   "file_extension": ".py",
   "mimetype": "text/x-python",
   "name": "python",
   "nbconvert_exporter": "python",
   "pygments_lexer": "ipython3",
   "version": "3.7.3"
  }
 },
 "nbformat": 4,
 "nbformat_minor": 2
}
